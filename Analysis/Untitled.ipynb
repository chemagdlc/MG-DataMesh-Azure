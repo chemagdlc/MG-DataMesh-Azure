{
 "cells": [
  {
   "cell_type": "code",
   "execution_count": 1,
   "id": "d39327fa",
   "metadata": {},
   "outputs": [],
   "source": [
    "import pandas as pd                 # For dataframe handling\n",
    "import numpy as np                  # For matrix and list computations\n",
    "import matplotlib.pyplot as plt     # For advanced graphse\n",
    "import seaborn as sns  # For hi level, Pandas oriented, graphics\n",
    "import scipy.stats as stats  # For statistical inference \n",
    "from pandas.api.types import CategoricalDtype"
   ]
  },
  {
   "cell_type": "code",
   "execution_count": null,
   "id": "ea100cfb",
   "metadata": {},
   "outputs": [],
   "source": [
    "# loading the dataset to pandas DataFrame\n",
    "url = 'https://raw.githubusercontent.com/aloa04/tfm/main/data/DATASET_HUTJ.csv'\n",
    "ds = pd.read_csv(url,sep=';', decimal=',', encoding='latin-1')\n",
    "ds"
   ]
  }
 ],
 "metadata": {
  "kernelspec": {
   "display_name": "Python 3 (ipykernel)",
   "language": "python",
   "name": "python3"
  },
  "language_info": {
   "codemirror_mode": {
    "name": "ipython",
    "version": 3
   },
   "file_extension": ".py",
   "mimetype": "text/x-python",
   "name": "python",
   "nbconvert_exporter": "python",
   "pygments_lexer": "ipython3",
   "version": "3.9.7"
  }
 },
 "nbformat": 4,
 "nbformat_minor": 5
}
